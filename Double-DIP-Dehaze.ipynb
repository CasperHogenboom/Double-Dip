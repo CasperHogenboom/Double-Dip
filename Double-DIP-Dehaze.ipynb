{
 "cells": [
  {
   "cell_type": "markdown",
   "metadata": {},
   "source": [
    "## Double-DIP Image Dehazing\n",
    "### Setup"
   ]
  },
  {
   "cell_type": "code",
   "execution_count": null,
   "metadata": {},
   "outputs": [],
   "source": [
    "import os\n",
    "from dipdehaze import dehaze\n",
    "from utils.image_io import prepare_image\n",
    "import matplotlib.pyplot as plt\n",
    "import matplotlib.image as mpimg\n",
    "\n",
    "input_image_path = \"datasets/ohaze/OutdoorTrainHazy/35_outdoor.jpg\"\n",
    "GT_image_path = \"datasets/ohaze/OutdoorTrainGT/35_outdoor.jpg\"\n",
    "image_name = os.path.basename(input_image_path)"
   ]
  },
  {
   "cell_type": "markdown",
   "metadata": {},
   "source": [
    "### Show input image"
   ]
  },
  {
   "cell_type": "code",
   "execution_count": null,
   "metadata": {},
   "outputs": [],
   "source": [
    "input = mpimg.imread(input_image_path)\n",
    "imgplot = plt.imshow(input)\n",
    "plt.show()"
   ]
  },
  {
   "cell_type": "markdown",
   "metadata": {},
   "source": [
    "### Dehazing"
   ]
  },
  {
   "cell_type": "code",
   "execution_count": null,
   "metadata": {},
   "outputs": [],
   "source": [
    "image = prepare_image(input_image_path)\n",
    "dehaze(image_name, image, num_iter=500, show_every=-1)"
   ]
  },
  {
   "cell_type": "markdown",
   "metadata": {},
   "source": [
    "### Show dehazed image"
   ]
  },
  {
   "cell_type": "code",
   "execution_count": null,
   "metadata": {},
   "outputs": [],
   "source": [
    "final = mpimg.imread(\"output/\" + image_name + \"_final.jpg\")\n",
    "imgplot = plt.imshow(final)\n",
    "plt.show()"
   ]
  },
  {
   "cell_type": "markdown",
   "metadata": {},
   "source": [
    "### Evaluate"
   ]
  },
  {
   "cell_type": "code",
   "execution_count": null,
   "metadata": {},
   "outputs": [],
   "source": [
    "import numpy as np\n",
    "from cv2 import cvtColor, COLOR_RGB2Lab\n",
    "from skimage import io\n",
    "from skimage.color import deltaE_ciede2000\n",
    "from skimage.metrics import peak_signal_noise_ratio, structural_similarity\n",
    "from skimage.transform import resize\n",
    "from skimage.util import img_as_float32\n",
    "\n",
    "gt = img_as_float32(io.imread(GT_image_path))\n",
    "dehazed = img_as_float32(io.imread(\"output/\" + image_name + \"_final.jpg\"))\n",
    "# dehazing might have resized the original image, so we need to resize it to match the dehazed image\n",
    "gt_resized = resize(gt, dehazed.shape, preserve_range=True, anti_aliasing=False)\n",
    "psnr = peak_signal_noise_ratio(gt_resized, dehazed)\n",
    "ssim = structural_similarity(gt_resized, dehazed, multichannel=True)\n",
    "gt_lab = cvtColor(gt_resized, COLOR_RGB2Lab)\n",
    "in_lab = cvtColor(dehazed, COLOR_RGB2Lab)\n",
    "deltaE = np.average(deltaE_ciede2000(gt_lab, in_lab))\n",
    "print(\"{} - PSNR: {:.6f} SSIM: {:.6f} CIEDE2000: {:.6f}\".format(image_name, psnr, ssim, deltaE))"
   ]
  }
 ],
 "metadata": {
  "kernelspec": {
   "display_name": "Python [conda env:.conda-deep-image-prior] *",
   "language": "python",
   "name": "conda-env-.conda-deep-image-prior-py"
  },
  "language_info": {
   "codemirror_mode": {
    "name": "ipython",
    "version": 3
   },
   "file_extension": ".py",
   "mimetype": "text/x-python",
   "name": "python",
   "nbconvert_exporter": "python",
   "pygments_lexer": "ipython3",
   "version": "3.7.4"
  }
 },
 "nbformat": 4,
 "nbformat_minor": 4
}
